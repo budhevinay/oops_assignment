{
 "cells": [
  {
   "cell_type": "code",
   "execution_count": null,
   "id": "64631c06-9808-4a50-86e5-0e66e35a6d5a",
   "metadata": {},
   "outputs": [],
   "source": [
    "'''Problem 1: Bank Account Create a class representing a bank account with attributes like account number,\n",
    "account holder name, and balance. Implement methods to deposit and withdraw money from the account'''\n",
    "class bank_account:\n",
    "    def __init__(self,account_number,account_holder_name,balance):\n",
    "        self.account_number=account_number\n",
    "        self.account_holder_name=account_holder_name\n",
    "        self.balance=balance\n",
    "    \n",
    "   \n",
    "    def deposit(self,amount):\n",
    "        \n",
    "        self.balance+=amount\n",
    "        print(self.balance,'is your new balance')\n",
    "    def withdraw(self,amount):\n",
    "     \n",
    "        if self.balance<=0:\n",
    "            print('you dont have sufficient balalnce')\n",
    "            \n",
    "        else:\n",
    "            self.balance -= amount\n",
    "            print('you have withdrawn',amount)\n",
    "        "
   ]
  },
  {
   "cell_type": "code",
   "execution_count": null,
   "id": "2b3c97c5-2e61-4803-af6f-bf425a4504f0",
   "metadata": {},
   "outputs": [],
   "source": [
    "vinay=bank_account(12,'sdd',12)\n",
    "\n",
    "vinay.deposit(12)"
   ]
  },
  {
   "cell_type": "code",
   "execution_count": null,
   "id": "925f0973-c217-4556-83d2-6ae9f50df972",
   "metadata": {},
   "outputs": [],
   "source": [
    "'''Problem 2: Employee Management Create a class representing an employee with attributes like employee ID, \n",
    "name, and salary. Implement methods to calculate the yearly bonus and display employee details.'''\n",
    "class employee_management:\n",
    "    def __init__(self,employee_ID,name,salary):\n",
    "        self.employee_ID=employee_ID\n",
    "        self.name=name\n",
    "        self.salary=salary\n",
    "    def yearly_bonus(self,yearly_bonus,work_hours):\n",
    "        \n",
    "        if work_hours>100:\n",
    "            yearly_bonus=self.salary+(work_hours*.05)\n",
    "    def employee_details(self):\n",
    "        print('id',self.employee_ID)\n",
    "        print('name',self.name)\n",
    "        print('salary',self.salary)\n",
    "            \n",
    "\n",
    "            "
   ]
  },
  {
   "cell_type": "code",
   "execution_count": null,
   "id": "69dba161-c8e6-4144-a9cd-d75c6a9063a7",
   "metadata": {},
   "outputs": [],
   "source": [
    "vinay=employee_management(123,'vinay',50001)\n",
    "vijay=employee_management(124,'vijay',50002)\n",
    "vijay.employee_details()"
   ]
  },
  {
   "cell_type": "code",
   "execution_count": 71,
   "id": "8e359b52-3ad4-4280-b84d-22f67cf5a077",
   "metadata": {},
   "outputs": [],
   "source": [
    "'''Problem 3: Vehicle Rental Create a class representing a vehicle rental system. Implement methods to rent a\n",
    "vehicle, return a vehicle, and display available vehicles.'''\n",
    "class vehicle_rental:\n",
    "    def __init__(self):\n",
    "        self.avaliable_vehicle=[]\n",
    "    def add_vehicle(self,vehicle):\n",
    "        self.available_vehicle.append(vehicle)\n",
    "    def rent_vehicle(self,vehicle_type):\n",
    "        for vehicle in self.available_vehicles:\n",
    "            if vehicle['type'] == vehicle_type:\n",
    "                self.available_vehicles.remove(vehicle)\n",
    "                return vehicle\n",
    "        return None\n",
    "    def return_vehicle(self, vehicle):\n",
    "        self.available_vehicles.append(vehicle)\n",
    "    def display_available_vehicles(self):\n",
    "        print(\"Available Vehicles:\")\n",
    "        for vehicle in self.available_vehicles:\n",
    "            print(f\"Type: {vehicle['type']}, License Plate: {vehicle['license_plate']}\")\n",
    "                 \n",
    "                 \n",
    "                 \n",
    "                 \n",
    "                 \n"
   ]
  },
  {
   "cell_type": "code",
   "execution_count": null,
   "id": "14089798-c13c-4a96-84f8-a9e90f469a9b",
   "metadata": {},
   "outputs": [],
   "source": [
    "rental=vehicle_rental()\n",
    "rental.add_vehicle({\"type\":\"car\", \"number_plate\":\"123dfad\"})"
   ]
  },
  {
   "cell_type": "code",
   "execution_count": null,
   "id": "3c3f9f9e-dd2e-4dd5-8f98-3d75457f186b",
   "metadata": {},
   "outputs": [],
   "source": []
  },
  {
   "cell_type": "code",
   "execution_count": null,
   "id": "cbabb7ac-659b-4e20-afb4-03462dfbb5ba",
   "metadata": {},
   "outputs": [],
   "source": [
    "'''Problem 4: Library Catalog Create classes representing a library and a book. Implement methods to add\n",
    "books to the library, borrow books, and display available books'''\n",
    "class library_catalog: \n",
    "    def __init__(self):\n",
    "        self.book=[]\n",
    "    def add_books(self,book):\n",
    "        self.book.append(book)\n",
    "    def borrow(self,book):\n",
    "        self.book.remove(book)\n",
    "    def display_books(self):\n",
    "        print(self.book)\n",
    "            "
   ]
  },
  {
   "cell_type": "code",
   "execution_count": null,
   "id": "8360a583-ec83-4d57-8931-25c56c7ebb33",
   "metadata": {},
   "outputs": [],
   "source": [
    "books=library_catalog()\n",
    "books.add_books('maths')\n",
    "books.add_books('physics')\n",
    "books.add_books('chemistry')\n",
    "books.display_books()"
   ]
  },
  {
   "cell_type": "code",
   "execution_count": null,
   "id": "e4b3ac35-bfa8-41b7-99f0-45b2ef61cb46",
   "metadata": {},
   "outputs": [],
   "source": [
    "books.borrow('maths')"
   ]
  },
  {
   "cell_type": "code",
   "execution_count": null,
   "id": "2c013ff2-f76c-4493-9bb6-5794e5b1f71d",
   "metadata": {},
   "outputs": [],
   "source": [
    "books.display_books()\n"
   ]
  },
  {
   "cell_type": "code",
   "execution_count": 55,
   "id": "1eae11bf-5055-4481-af3d-33774dae6dd9",
   "metadata": {},
   "outputs": [],
   "source": [
    "'''Problem 5: Product Inventory Create classes representing a product and an inventory system. Implement\n",
    "methods to add products to the inventory, update product quantity, and display available products.'''\n",
    "class product:\n",
    "    def __init__(self):\n",
    "        \n",
    "        self.products=[]\n",
    "        self.product_quantity=[]\n",
    "class inventory:    \n",
    "    def add_products(self,product):\n",
    "        self.products.append(product)\n",
    "    def update_product_quantity(self,quantity):\n",
    "        self.product_quantity.append(quantity)\n",
    "    def display_available_products(self):\n",
    "        print(self.products)\n",
    "        \n",
    "\n"
   ]
  },
  {
   "cell_type": "code",
   "execution_count": null,
   "id": "87fa12c3-6176-4451-8d08-b3601b330b1c",
   "metadata": {},
   "outputs": [],
   "source": [
    "p1=product()\n",
    "p2=inventory()\n",
    "p2.add_products('laptop')\n",
    "                \n"
   ]
  },
  {
   "cell_type": "code",
   "execution_count": 58,
   "id": "78d10359-cf74-4088-9ebe-ad22ec910c5e",
   "metadata": {},
   "outputs": [],
   "source": [
    "'''Problem 6:Shape Calculation Create a class representing a shape with attributes like length, width, and \n",
    "height.Implement methods to calculate the area and perimeter of the shape'''\n",
    "class shape:\n",
    "    def __init__(self,length=0,breadth=0,height=0):\n",
    "        self.lenght=length\n",
    "        self.breadth=breadth\n",
    "        self.height=height\n",
    "class rectangle(shape):\n",
    "    def area(self):\n",
    "        return self.lenght*self.breadth\n",
    "    def perimeter(self):\n",
    "        return 2*(self.lenght*self.breadth)\n",
    "class  square(shape):\n",
    "    def area(self):\n",
    "        return self.lenght*self.length\n",
    "    def perimeter(self):\n",
    "        return 4*self.length\n",
    "        "
   ]
  },
  {
   "cell_type": "code",
   "execution_count": 7,
   "id": "5f9a2960-8e63-43e2-8b0b-1af8897afa46",
   "metadata": {},
   "outputs": [
    {
     "data": {
      "text/plain": [
       "3"
      ]
     },
     "execution_count": 7,
     "metadata": {},
     "output_type": "execute_result"
    }
   ],
   "source": [
    "rect=rectangle(1,3)\n",
    "rect.area()\n",
    "\n",
    "\n"
   ]
  },
  {
   "cell_type": "code",
   "execution_count": 13,
   "id": "be7f0cff-6fa5-45bc-9e6b-5f487e717e28",
   "metadata": {},
   "outputs": [],
   "source": [
    "'''Problem 7: Student Management Create a class representing a student with attributes like student ID, \n",
    "name, and grades. Implement methods to calculate the average grade and display student details'''\n",
    "class student_management:\n",
    "    def __init__(self,student_ID,names):\n",
    "        self.student_ID=student_ID\n",
    "        self.names=names\n",
    "        self.grades=[]\n",
    "    def add_grades(self,grades):\n",
    "        self.grades.append(grades)\n",
    "    def calculate_avg_grades(self):\n",
    "        if not self.grades:\n",
    "            return 0\n",
    "        return sum(self.grades)/len(self.grades)\n",
    "    def display_student_details(self):\n",
    "        print('student_ID',self.student_ID)\n",
    "        print('names', self.names)\n",
    "        print('grades',self.grades)\n",
    "    "
   ]
  },
  {
   "cell_type": "code",
   "execution_count": 14,
   "id": "f02d46df-cbfb-4877-90ba-b668410b79e3",
   "metadata": {},
   "outputs": [
    {
     "name": "stdout",
     "output_type": "stream",
     "text": [
      "student_ID 1\n",
      "names aa\n",
      "grades [90, 80]\n"
     ]
    }
   ],
   "source": [
    "s1=student_management(1,'aa')\n",
    "s1.add_grades(90)\n",
    "s1.add_grades(80)\n",
    "\n",
    "s1.display_student_details()\n",
    "\n"
   ]
  },
  {
   "cell_type": "code",
   "execution_count": 67,
   "id": "3c50836d-3906-4b5d-a924-299ca482a126",
   "metadata": {},
   "outputs": [],
   "source": [
    "'''Problem 8: Email Management Create a class representing an email with attributes like sender, recipient,\n",
    "and subject. Implement methods to send an email and display email details.'''\n",
    "class email_management:\n",
    "    def __init__(self,sender,recipient,subject):\n",
    "        self.sender=sender\n",
    "        self.recipient=recipient\n",
    "        self.subject=subject\n",
    "       \n",
    "    def send(self):\n",
    "        if self.send:\n",
    "            print('sent')\n",
    "        else:\n",
    "            print('not send')\n",
    "        \n",
    "    def display_email_details(self):\n",
    "        print('sender',self.sender)\n",
    "        print('recipient',self.recipient)\n",
    "        print('subject',self.subject)\n",
    "        "
   ]
  },
  {
   "cell_type": "code",
   "execution_count": 70,
   "id": "adca895d-bfec-4d3b-92e4-e4b2ece372d0",
   "metadata": {},
   "outputs": [
    {
     "name": "stdout",
     "output_type": "stream",
     "text": [
      "sent\n",
      "sender vinay@123.com\n",
      "recipient vijay@132.com\n",
      "subject board meeting\n"
     ]
    }
   ],
   "source": [
    "email=email_management('vinay@123.com','vijay@132.com','board meeting')\n",
    "email.send()\n",
    "email.display_email_details()"
   ]
  },
  {
   "cell_type": "code",
   "execution_count": 6,
   "id": "e9c4f871-c5ee-4919-beab-29e40a25167a",
   "metadata": {},
   "outputs": [],
   "source": [
    "'''Problem 9: Social Media Profile Create a class representing a social media profile with attributes like\n",
    "username and posts. Implement methods to add posts, display posts, and search for posts by keyword.'''\n",
    "class social_media:\n",
    "    def __init__(self, user_name):\n",
    "        self.user_name=user_name\n",
    "        self.post=[]\n",
    "    def add_post(self,posts):\n",
    "        self.post.append(posts)\n",
    "    def display_post(self):\n",
    "        if not self.post:\n",
    "            print('no posts yet')\n",
    "        else:\n",
    "            for i,posts in enumerate(self.post,1):\n",
    "                print(f\"{i}. {post}\")\n",
    "    \n",
    "        \n",
    "        "
   ]
  },
  {
   "cell_type": "code",
   "execution_count": 12,
   "id": "62e7c6b6-930c-49f8-8cef-5ee3efd0cab6",
   "metadata": {},
   "outputs": [
    {
     "data": {
      "text/plain": [
       "<bound method social_media.display_post of <__main__.social_media object at 0x7f3c524b82e0>>"
      ]
     },
     "execution_count": 12,
     "metadata": {},
     "output_type": "execute_result"
    }
   ],
   "source": [
    "account_1=social_media('vinay')\n",
    "account_1.add_post(1)\n",
    "account_1.display_post"
   ]
  },
  {
   "cell_type": "code",
   "execution_count": 14,
   "id": "9b7e7b5e-8a14-4488-b039-2891b70b4b85",
   "metadata": {},
   "outputs": [],
   "source": [
    "'''Problem 10: ToDo List Create a class representing a ToDo list with attributes like tasks and due dates. \n",
    "Implement methods to add tasks, mark tasks as completed, and display pending tasks.'''\n",
    "class ToDoList:\n",
    "    def __init__(self):\n",
    "        self.tasks = {} \n",
    "\n",
    "    def add_task(self, task, due_date):\n",
    "        self.tasks[task] = due_date\n",
    "\n",
    "    def mark_task_completed(self, task):\n",
    "        if task in self.tasks:\n",
    "            del self.tasks[task]\n",
    "            print(f\"Task '{task}' marked as completed.\")\n",
    "        else:\n",
    "            print(f\"Task '{task}' not found in the ToDo list.\")\n",
    "\n",
    "    def display_pending_tasks(self):\n",
    "        if not self.tasks:\n",
    "            print(\"No pending tasks.\")\n",
    "        else:\n",
    "            print(\"Pending tasks:\")\n",
    "            for task, due_date in self.tasks.items():\n",
    "                print(f\"Task: {task}, Due Date: {due_date}\")\n",
    "\n",
    "\n",
    " \n"
   ]
  },
  {
   "cell_type": "code",
   "execution_count": 16,
   "id": "f0571667-598c-41a8-9357-96eb641881cc",
   "metadata": {},
   "outputs": [
    {
     "name": "stdout",
     "output_type": "stream",
     "text": [
      "Pending tasks:\n",
      "Task: Finish the project, Due Date: 2023-10-31\n",
      "Task 'Buy groceries' not found in the ToDo list.\n",
      "Pending tasks:\n",
      "Task: Finish the project, Due Date: 2023-10-31\n"
     ]
    }
   ],
   "source": [
    "todo_list = ToDoList()\n",
    "todo_list.add_task(\"Finish the project\", \"2023-10-31\")\n",
    "todo_list.display_pending_tasks()\n",
    "task_to_complete = \"Buy groceries\"\n",
    "todo_list.mark_task_completed(task_to_complete)\n",
    "todo_list.display_pending_tasks()"
   ]
  },
  {
   "cell_type": "code",
   "execution_count": null,
   "id": "83a211d3-b2ee-40d9-ba7b-c0f1146a7f02",
   "metadata": {},
   "outputs": [],
   "source": []
  }
 ],
 "metadata": {
  "kernelspec": {
   "display_name": "Python 3 (ipykernel)",
   "language": "python",
   "name": "python3"
  },
  "language_info": {
   "codemirror_mode": {
    "name": "ipython",
    "version": 3
   },
   "file_extension": ".py",
   "mimetype": "text/x-python",
   "name": "python",
   "nbconvert_exporter": "python",
   "pygments_lexer": "ipython3",
   "version": "3.10.8"
  }
 },
 "nbformat": 4,
 "nbformat_minor": 5
}
